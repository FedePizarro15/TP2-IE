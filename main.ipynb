{
 "cells": [
  {
   "cell_type": "markdown",
   "id": "97663d2d",
   "metadata": {},
   "source": [
    "# Respuestas"
   ]
  }
 ],
 "metadata": {
  "language_info": {
   "name": "python"
  }
 },
 "nbformat": 4,
 "nbformat_minor": 5
}
